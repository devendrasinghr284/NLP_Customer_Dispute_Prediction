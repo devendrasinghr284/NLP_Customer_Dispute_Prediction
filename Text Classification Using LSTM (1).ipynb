{
 "cells": [
  {
   "cell_type": "code",
   "execution_count": 1,
   "id": "f3975a4f",
   "metadata": {},
   "outputs": [],
   "source": [
    "#!pip install chart-studio"
   ]
  },
  {
   "cell_type": "code",
   "execution_count": 1,
   "id": "ffb0a29d",
   "metadata": {},
   "outputs": [],
   "source": [
    "from chart_studio import plotly"
   ]
  },
  {
   "cell_type": "code",
   "execution_count": 3,
   "id": "56c016d2",
   "metadata": {},
   "outputs": [],
   "source": [
    "#!pip install cufflinks"
   ]
  },
  {
   "cell_type": "code",
   "execution_count": 2,
   "id": "7110bf10",
   "metadata": {},
   "outputs": [
    {
     "data": {
      "text/html": [
       "        <script type=\"text/javascript\">\n",
       "        window.PlotlyConfig = {MathJaxConfig: 'local'};\n",
       "        if (window.MathJax) {MathJax.Hub.Config({SVG: {font: \"STIX-Web\"}});}\n",
       "        if (typeof require !== 'undefined') {\n",
       "        require.undef(\"plotly\");\n",
       "        requirejs.config({\n",
       "            paths: {\n",
       "                'plotly': ['https://cdn.plot.ly/plotly-2.11.1.min']\n",
       "            }\n",
       "        });\n",
       "        require(['plotly'], function(Plotly) {\n",
       "            window._Plotly = Plotly;\n",
       "        });\n",
       "        }\n",
       "        </script>\n",
       "        "
      ]
     },
     "metadata": {},
     "output_type": "display_data"
    }
   ],
   "source": [
    "import numpy as np \n",
    "import pandas as pd\n",
    "import matplotlib.pyplot as plt\n",
    "import seaborn as sns\n",
    "from keras.preprocessing.text import Tokenizer\n",
    "from keras.preprocessing.sequence import pad_sequences\n",
    "from keras.models import Sequential\n",
    "from keras.layers import Dense, Embedding, LSTM, SpatialDropout1D\n",
    "from sklearn.model_selection import train_test_split\n",
    "from keras.utils.np_utils import to_categorical\n",
    "from keras.callbacks import EarlyStopping\n",
    "from keras.layers import Dropout\n",
    "import re\n",
    "import nltk\n",
    "from nltk.corpus import stopwords\n",
    "from nltk import word_tokenize\n",
    "STOPWORDS = set(stopwords.words('english'))\n",
    "from bs4 import BeautifulSoup\n",
    "import plotly.graph_objs as go\n",
    "import chart_studio.plotly as py\n",
    "import cufflinks\n",
    "from IPython.core.interactiveshell import InteractiveShell\n",
    "import plotly.figure_factory as ff\n",
    "InteractiveShell.ast_node_interactivity = 'all'\n",
    "from plotly.offline import iplot\n",
    "cufflinks.go_offline()\n",
    "cufflinks.set_config_file(world_readable=True, theme='pearl')"
   ]
  },
  {
   "cell_type": "code",
   "execution_count": 4,
   "id": "51e07016",
   "metadata": {},
   "outputs": [
    {
     "data": {
      "text/html": [
       "<div>\n",
       "<style scoped>\n",
       "    .dataframe tbody tr th:only-of-type {\n",
       "        vertical-align: middle;\n",
       "    }\n",
       "\n",
       "    .dataframe tbody tr th {\n",
       "        vertical-align: top;\n",
       "    }\n",
       "\n",
       "    .dataframe thead th {\n",
       "        text-align: right;\n",
       "    }\n",
       "</style>\n",
       "<table border=\"1\" class=\"dataframe\">\n",
       "  <thead>\n",
       "    <tr style=\"text-align: right;\">\n",
       "      <th></th>\n",
       "      <th>Date received</th>\n",
       "      <th>Product</th>\n",
       "      <th>Sub-product</th>\n",
       "      <th>Issue</th>\n",
       "      <th>Sub-issue</th>\n",
       "      <th>Consumer complaint narrative</th>\n",
       "      <th>Company public response</th>\n",
       "      <th>Company</th>\n",
       "      <th>State</th>\n",
       "      <th>ZIP code</th>\n",
       "      <th>Tags</th>\n",
       "      <th>Consumer consent provided?</th>\n",
       "      <th>Submitted via</th>\n",
       "      <th>Date sent to company</th>\n",
       "      <th>Company response to consumer</th>\n",
       "      <th>Timely response?</th>\n",
       "      <th>Complaint ID</th>\n",
       "    </tr>\n",
       "  </thead>\n",
       "  <tbody>\n",
       "    <tr>\n",
       "      <th>0</th>\n",
       "      <td>17-01-2015</td>\n",
       "      <td>Credit card</td>\n",
       "      <td>NaN</td>\n",
       "      <td>Customer service / Customer relations</td>\n",
       "      <td>NaN</td>\n",
       "      <td>NaN</td>\n",
       "      <td>NaN</td>\n",
       "      <td>Citibank</td>\n",
       "      <td>TX</td>\n",
       "      <td>75241</td>\n",
       "      <td>NaN</td>\n",
       "      <td>NaN</td>\n",
       "      <td>Web</td>\n",
       "      <td>17-01-2015</td>\n",
       "      <td>Closed with monetary relief</td>\n",
       "      <td>Yes</td>\n",
       "      <td>1198133</td>\n",
       "    </tr>\n",
       "    <tr>\n",
       "      <th>1</th>\n",
       "      <td>22-06-2016</td>\n",
       "      <td>Consumer Loan</td>\n",
       "      <td>Title loan</td>\n",
       "      <td>Payment to acct not credited</td>\n",
       "      <td>NaN</td>\n",
       "      <td>NaN</td>\n",
       "      <td>Company believes it acted appropriately as aut...</td>\n",
       "      <td>Larsen MacColl Partners II, L.P.</td>\n",
       "      <td>TX</td>\n",
       "      <td>76548</td>\n",
       "      <td>Servicemember</td>\n",
       "      <td>NaN</td>\n",
       "      <td>Phone</td>\n",
       "      <td>22-06-2016</td>\n",
       "      <td>Closed with explanation</td>\n",
       "      <td>Yes</td>\n",
       "      <td>1979989</td>\n",
       "    </tr>\n",
       "    <tr>\n",
       "      <th>2</th>\n",
       "      <td>04-09-2015</td>\n",
       "      <td>Credit card</td>\n",
       "      <td>NaN</td>\n",
       "      <td>Credit line increase/decrease</td>\n",
       "      <td>NaN</td>\n",
       "      <td>I WANT TO REQUEST A CREDIT LINE INCREASE OF XX...</td>\n",
       "      <td>NaN</td>\n",
       "      <td>Capital One</td>\n",
       "      <td>NC</td>\n",
       "      <td>271XX</td>\n",
       "      <td>NaN</td>\n",
       "      <td>Consent provided</td>\n",
       "      <td>Web</td>\n",
       "      <td>04-09-2015</td>\n",
       "      <td>Closed with explanation</td>\n",
       "      <td>Yes</td>\n",
       "      <td>1552090</td>\n",
       "    </tr>\n",
       "    <tr>\n",
       "      <th>3</th>\n",
       "      <td>17-05-2016</td>\n",
       "      <td>Consumer Loan</td>\n",
       "      <td>Installment loan</td>\n",
       "      <td>Problems when you are unable to pay</td>\n",
       "      <td>NaN</td>\n",
       "      <td>I have asked One Main Financial not to call my...</td>\n",
       "      <td>NaN</td>\n",
       "      <td>OneMain Financial Holdings, LLC</td>\n",
       "      <td>MO</td>\n",
       "      <td>634XX</td>\n",
       "      <td>NaN</td>\n",
       "      <td>Consent provided</td>\n",
       "      <td>Web</td>\n",
       "      <td>20-05-2016</td>\n",
       "      <td>Closed with non-monetary relief</td>\n",
       "      <td>Yes</td>\n",
       "      <td>1929306</td>\n",
       "    </tr>\n",
       "    <tr>\n",
       "      <th>4</th>\n",
       "      <td>07-07-2016</td>\n",
       "      <td>Debt collection</td>\n",
       "      <td>Other (i.e. phone, health club, etc.)</td>\n",
       "      <td>Improper contact or sharing of info</td>\n",
       "      <td>Contacted employer after asked not to</td>\n",
       "      <td>I have received several calls from a XXXX XXXX...</td>\n",
       "      <td>Company has responded to the consumer and the ...</td>\n",
       "      <td>GMA Investments, LLC</td>\n",
       "      <td>SC</td>\n",
       "      <td>296XX</td>\n",
       "      <td>NaN</td>\n",
       "      <td>Consent provided</td>\n",
       "      <td>Web</td>\n",
       "      <td>07-07-2016</td>\n",
       "      <td>Closed with explanation</td>\n",
       "      <td>Yes</td>\n",
       "      <td>2001667</td>\n",
       "    </tr>\n",
       "    <tr>\n",
       "      <th>...</th>\n",
       "      <td>...</td>\n",
       "      <td>...</td>\n",
       "      <td>...</td>\n",
       "      <td>...</td>\n",
       "      <td>...</td>\n",
       "      <td>...</td>\n",
       "      <td>...</td>\n",
       "      <td>...</td>\n",
       "      <td>...</td>\n",
       "      <td>...</td>\n",
       "      <td>...</td>\n",
       "      <td>...</td>\n",
       "      <td>...</td>\n",
       "      <td>...</td>\n",
       "      <td>...</td>\n",
       "      <td>...</td>\n",
       "      <td>...</td>\n",
       "    </tr>\n",
       "    <tr>\n",
       "      <th>119601</th>\n",
       "      <td>09-02-2015</td>\n",
       "      <td>Credit card</td>\n",
       "      <td>NaN</td>\n",
       "      <td>Credit determination</td>\n",
       "      <td>NaN</td>\n",
       "      <td>NaN</td>\n",
       "      <td>NaN</td>\n",
       "      <td>Citibank</td>\n",
       "      <td>IL</td>\n",
       "      <td>60803</td>\n",
       "      <td>NaN</td>\n",
       "      <td>NaN</td>\n",
       "      <td>Web</td>\n",
       "      <td>09-02-2015</td>\n",
       "      <td>Closed with explanation</td>\n",
       "      <td>Yes</td>\n",
       "      <td>1230729</td>\n",
       "    </tr>\n",
       "    <tr>\n",
       "      <th>119602</th>\n",
       "      <td>13-11-2012</td>\n",
       "      <td>Credit card</td>\n",
       "      <td>NaN</td>\n",
       "      <td>Balance transfer</td>\n",
       "      <td>NaN</td>\n",
       "      <td>NaN</td>\n",
       "      <td>NaN</td>\n",
       "      <td>Capital One</td>\n",
       "      <td>KS</td>\n",
       "      <td>67114</td>\n",
       "      <td>NaN</td>\n",
       "      <td>NaN</td>\n",
       "      <td>Web</td>\n",
       "      <td>14-11-2012</td>\n",
       "      <td>Closed with explanation</td>\n",
       "      <td>Yes</td>\n",
       "      <td>189749</td>\n",
       "    </tr>\n",
       "    <tr>\n",
       "      <th>119603</th>\n",
       "      <td>15-05-2012</td>\n",
       "      <td>Mortgage</td>\n",
       "      <td>Other mortgage</td>\n",
       "      <td>Loan modification,collection,foreclosure</td>\n",
       "      <td>NaN</td>\n",
       "      <td>NaN</td>\n",
       "      <td>NaN</td>\n",
       "      <td>Bank of America</td>\n",
       "      <td>CA</td>\n",
       "      <td>95691</td>\n",
       "      <td>NaN</td>\n",
       "      <td>NaN</td>\n",
       "      <td>Referral</td>\n",
       "      <td>15-05-2012</td>\n",
       "      <td>Closed without relief</td>\n",
       "      <td>Yes</td>\n",
       "      <td>78574</td>\n",
       "    </tr>\n",
       "    <tr>\n",
       "      <th>119604</th>\n",
       "      <td>07-06-2015</td>\n",
       "      <td>Credit reporting</td>\n",
       "      <td>NaN</td>\n",
       "      <td>Incorrect information on credit report</td>\n",
       "      <td>Reinserted previously deleted info</td>\n",
       "      <td>In XX/XX/XXXX, a Collection firm by the name o...</td>\n",
       "      <td>Company chooses not to provide a public response</td>\n",
       "      <td>Experian</td>\n",
       "      <td>OH</td>\n",
       "      <td>436XX</td>\n",
       "      <td>NaN</td>\n",
       "      <td>Consent provided</td>\n",
       "      <td>Web</td>\n",
       "      <td>07-06-2015</td>\n",
       "      <td>Closed with explanation</td>\n",
       "      <td>Yes</td>\n",
       "      <td>1409765</td>\n",
       "    </tr>\n",
       "    <tr>\n",
       "      <th>119605</th>\n",
       "      <td>20-03-2015</td>\n",
       "      <td>Debt collection</td>\n",
       "      <td>I do not know</td>\n",
       "      <td>Communication tactics</td>\n",
       "      <td>Frequent or repeated calls</td>\n",
       "      <td>They have called my number asking for someone ...</td>\n",
       "      <td>NaN</td>\n",
       "      <td>Northland Group, Inc.</td>\n",
       "      <td>FL</td>\n",
       "      <td>322XX</td>\n",
       "      <td>NaN</td>\n",
       "      <td>Consent provided</td>\n",
       "      <td>Web</td>\n",
       "      <td>20-03-2015</td>\n",
       "      <td>Closed with explanation</td>\n",
       "      <td>Yes</td>\n",
       "      <td>1294040</td>\n",
       "    </tr>\n",
       "  </tbody>\n",
       "</table>\n",
       "<p>119606 rows × 17 columns</p>\n",
       "</div>"
      ],
      "text/plain": [
       "       Date received           Product                            Sub-product  \\\n",
       "0         17-01-2015       Credit card                                    NaN   \n",
       "1         22-06-2016     Consumer Loan                             Title loan   \n",
       "2         04-09-2015       Credit card                                    NaN   \n",
       "3         17-05-2016     Consumer Loan                       Installment loan   \n",
       "4         07-07-2016   Debt collection  Other (i.e. phone, health club, etc.)   \n",
       "...              ...               ...                                    ...   \n",
       "119601    09-02-2015       Credit card                                    NaN   \n",
       "119602    13-11-2012       Credit card                                    NaN   \n",
       "119603    15-05-2012          Mortgage                         Other mortgage   \n",
       "119604    07-06-2015  Credit reporting                                    NaN   \n",
       "119605    20-03-2015   Debt collection                          I do not know   \n",
       "\n",
       "                                           Issue  \\\n",
       "0          Customer service / Customer relations   \n",
       "1                   Payment to acct not credited   \n",
       "2                  Credit line increase/decrease   \n",
       "3            Problems when you are unable to pay   \n",
       "4            Improper contact or sharing of info   \n",
       "...                                          ...   \n",
       "119601                      Credit determination   \n",
       "119602                          Balance transfer   \n",
       "119603  Loan modification,collection,foreclosure   \n",
       "119604    Incorrect information on credit report   \n",
       "119605                     Communication tactics   \n",
       "\n",
       "                                    Sub-issue  \\\n",
       "0                                         NaN   \n",
       "1                                         NaN   \n",
       "2                                         NaN   \n",
       "3                                         NaN   \n",
       "4       Contacted employer after asked not to   \n",
       "...                                       ...   \n",
       "119601                                    NaN   \n",
       "119602                                    NaN   \n",
       "119603                                    NaN   \n",
       "119604     Reinserted previously deleted info   \n",
       "119605             Frequent or repeated calls   \n",
       "\n",
       "                             Consumer complaint narrative  \\\n",
       "0                                                     NaN   \n",
       "1                                                     NaN   \n",
       "2       I WANT TO REQUEST A CREDIT LINE INCREASE OF XX...   \n",
       "3       I have asked One Main Financial not to call my...   \n",
       "4       I have received several calls from a XXXX XXXX...   \n",
       "...                                                   ...   \n",
       "119601                                                NaN   \n",
       "119602                                                NaN   \n",
       "119603                                                NaN   \n",
       "119604  In XX/XX/XXXX, a Collection firm by the name o...   \n",
       "119605  They have called my number asking for someone ...   \n",
       "\n",
       "                                  Company public response  \\\n",
       "0                                                     NaN   \n",
       "1       Company believes it acted appropriately as aut...   \n",
       "2                                                     NaN   \n",
       "3                                                     NaN   \n",
       "4       Company has responded to the consumer and the ...   \n",
       "...                                                   ...   \n",
       "119601                                                NaN   \n",
       "119602                                                NaN   \n",
       "119603                                                NaN   \n",
       "119604   Company chooses not to provide a public response   \n",
       "119605                                                NaN   \n",
       "\n",
       "                                 Company State ZIP code           Tags  \\\n",
       "0                               Citibank    TX    75241            NaN   \n",
       "1       Larsen MacColl Partners II, L.P.    TX    76548  Servicemember   \n",
       "2                            Capital One    NC    271XX            NaN   \n",
       "3        OneMain Financial Holdings, LLC    MO    634XX            NaN   \n",
       "4                   GMA Investments, LLC    SC    296XX            NaN   \n",
       "...                                  ...   ...      ...            ...   \n",
       "119601                          Citibank    IL    60803            NaN   \n",
       "119602                       Capital One    KS    67114            NaN   \n",
       "119603                   Bank of America    CA    95691            NaN   \n",
       "119604                          Experian    OH    436XX            NaN   \n",
       "119605             Northland Group, Inc.    FL    322XX            NaN   \n",
       "\n",
       "       Consumer consent provided? Submitted via Date sent to company  \\\n",
       "0                             NaN           Web           17-01-2015   \n",
       "1                             NaN         Phone           22-06-2016   \n",
       "2                Consent provided           Web           04-09-2015   \n",
       "3                Consent provided           Web           20-05-2016   \n",
       "4                Consent provided           Web           07-07-2016   \n",
       "...                           ...           ...                  ...   \n",
       "119601                        NaN           Web           09-02-2015   \n",
       "119602                        NaN           Web           14-11-2012   \n",
       "119603                        NaN      Referral           15-05-2012   \n",
       "119604           Consent provided           Web           07-06-2015   \n",
       "119605           Consent provided           Web           20-03-2015   \n",
       "\n",
       "           Company response to consumer Timely response?  Complaint ID  \n",
       "0           Closed with monetary relief              Yes       1198133  \n",
       "1               Closed with explanation              Yes       1979989  \n",
       "2               Closed with explanation              Yes       1552090  \n",
       "3       Closed with non-monetary relief              Yes       1929306  \n",
       "4               Closed with explanation              Yes       2001667  \n",
       "...                                 ...              ...           ...  \n",
       "119601          Closed with explanation              Yes       1230729  \n",
       "119602          Closed with explanation              Yes        189749  \n",
       "119603            Closed without relief              Yes         78574  \n",
       "119604          Closed with explanation              Yes       1409765  \n",
       "119605          Closed with explanation              Yes       1294040  \n",
       "\n",
       "[119606 rows x 17 columns]"
      ]
     },
     "execution_count": 4,
     "metadata": {},
     "output_type": "execute_result"
    }
   ],
   "source": [
    "data=pd.read_csv(r\"C:\\Users\\SUBHESH KUMAR JHA\\Desktop\\Consumer_Complaints.csv\")\n",
    "data"
   ]
  },
  {
   "cell_type": "code",
   "execution_count": 5,
   "id": "6ef13f11",
   "metadata": {},
   "outputs": [],
   "source": [
    "data = data[[\"Product\",\"Issue\"]]\n",
    "data=data.astype(str)"
   ]
  },
  {
   "cell_type": "code",
   "execution_count": 6,
   "id": "ed120cac",
   "metadata": {},
   "outputs": [
    {
     "name": "stderr",
     "output_type": "stream",
     "text": [
      "[nltk_data] Downloading package stopwords to C:\\Users\\SUBHESH KUMAR\n",
      "[nltk_data]     JHA\\AppData\\Roaming\\nltk_data...\n",
      "[nltk_data]   Unzipping corpora\\stopwords.zip.\n"
     ]
    },
    {
     "data": {
      "text/plain": [
       "True"
      ]
     },
     "execution_count": 6,
     "metadata": {},
     "output_type": "execute_result"
    }
   ],
   "source": [
    "from nltk.stem import WordNetLemmatizer\n",
    "from nltk.corpus import stopwords\n",
    "nltk.download('stopwords')\n",
    "lemmatizer = WordNetLemmatizer()\n",
    "stop_words = stopwords.words('english')\n",
    "VERB_CODES = {'VB', 'VBD', 'VBG', 'VBN', 'VBP', 'VBZ'}"
   ]
  },
  {
   "cell_type": "code",
   "execution_count": 8,
   "id": "5d0ee62a",
   "metadata": {},
   "outputs": [
    {
     "data": {
      "text/html": [
       "<div>\n",
       "<style scoped>\n",
       "    .dataframe tbody tr th:only-of-type {\n",
       "        vertical-align: middle;\n",
       "    }\n",
       "\n",
       "    .dataframe tbody tr th {\n",
       "        vertical-align: top;\n",
       "    }\n",
       "\n",
       "    .dataframe thead th {\n",
       "        text-align: right;\n",
       "    }\n",
       "</style>\n",
       "<table border=\"1\" class=\"dataframe\">\n",
       "  <thead>\n",
       "    <tr style=\"text-align: right;\">\n",
       "      <th></th>\n",
       "      <th>Product</th>\n",
       "      <th>Issue</th>\n",
       "      <th>Issue_processed</th>\n",
       "    </tr>\n",
       "  </thead>\n",
       "  <tbody>\n",
       "    <tr>\n",
       "      <th>0</th>\n",
       "      <td>Credit card</td>\n",
       "      <td>Customer service / Customer relations</td>\n",
       "      <td>customer service customer relation</td>\n",
       "    </tr>\n",
       "    <tr>\n",
       "      <th>1</th>\n",
       "      <td>Consumer Loan</td>\n",
       "      <td>Payment to acct not credited</td>\n",
       "      <td>payment acct credit</td>\n",
       "    </tr>\n",
       "    <tr>\n",
       "      <th>2</th>\n",
       "      <td>Credit card</td>\n",
       "      <td>Credit line increase/decrease</td>\n",
       "      <td>credit line</td>\n",
       "    </tr>\n",
       "    <tr>\n",
       "      <th>3</th>\n",
       "      <td>Consumer Loan</td>\n",
       "      <td>Problems when you are unable to pay</td>\n",
       "      <td>problem unable pay</td>\n",
       "    </tr>\n",
       "    <tr>\n",
       "      <th>4</th>\n",
       "      <td>Debt collection</td>\n",
       "      <td>Improper contact or sharing of info</td>\n",
       "      <td>improper contact sharing info</td>\n",
       "    </tr>\n",
       "  </tbody>\n",
       "</table>\n",
       "</div>"
      ],
      "text/plain": [
       "           Product                                  Issue  \\\n",
       "0      Credit card  Customer service / Customer relations   \n",
       "1    Consumer Loan           Payment to acct not credited   \n",
       "2      Credit card          Credit line increase/decrease   \n",
       "3    Consumer Loan    Problems when you are unable to pay   \n",
       "4  Debt collection    Improper contact or sharing of info   \n",
       "\n",
       "                      Issue_processed  \n",
       "0  customer service customer relation  \n",
       "1                 payment acct credit  \n",
       "2                         credit line  \n",
       "3                  problem unable pay  \n",
       "4       improper contact sharing info  "
      ]
     },
     "execution_count": 8,
     "metadata": {},
     "output_type": "execute_result"
    }
   ],
   "source": [
    "def preprocess_sentences(text):\n",
    "    text = text.lower() #converts text into lower alphabets\n",
    "    temp_sent =[]\n",
    "    words = nltk.word_tokenize(text) #word tokenizer\n",
    "    tags = nltk.pos_tag(words) #to mark up the words in text format for a particular part of a speech based on its definition.\n",
    "    for i, word in enumerate(words):\n",
    "        if tags[i][1] in VERB_CODES:\n",
    "            lemmatized = lemmatizer.lemmatize(word, 'v') #Lemmatization in verb form for verb POS tagged words.\n",
    "        else:\n",
    "            lemmatized = lemmatizer.lemmatize(word)\n",
    "        if lemmatized not in stop_words and lemmatized.isalpha(): #The isalpha() method returns True if all the characters are alphabet letters (a-z)\n",
    "            temp_sent.append(lemmatized)\n",
    "\n",
    "    finalsent = ' '.join(temp_sent)\n",
    "    finalsent = finalsent.replace(\"n't\", \" not\")\n",
    "    finalsent = finalsent.replace(\"'m\", \" am\")\n",
    "    finalsent = finalsent.replace(\"'s\", \" is\")\n",
    "    finalsent = finalsent.replace(\"'re\", \" are\")\n",
    "    finalsent = finalsent.replace(\"'ll\", \" will\")\n",
    "    finalsent = finalsent.replace(\"'ve\", \" have\")\n",
    "    finalsent = finalsent.replace(\"'d\", \" would\")\n",
    "    finalsent = finalsent.replace(\"voc\",\"\")\n",
    "    finalsent = finalsent.replace(\"oc\",\"\")\n",
    "    \n",
    "    return finalsent\n",
    "\n",
    "data[\"Issue_processed\"]= data[\"Issue\"].apply(preprocess_sentences)\n",
    "data.head()"
   ]
  },
  {
   "cell_type": "markdown",
   "id": "f3352f30",
   "metadata": {},
   "source": [
    "Vectorizing consumer complaints,limit the dataset to top 50000 words and set the maximum number of words in each complaint as 250"
   ]
  },
  {
   "cell_type": "code",
   "execution_count": 9,
   "id": "416fdd07",
   "metadata": {},
   "outputs": [
    {
     "name": "stdout",
     "output_type": "stream",
     "text": [
      "Found 146 unique tokens.\n"
     ]
    }
   ],
   "source": [
    "# The maximum number of words to be used. (most frequent)\n",
    "MAX_NB_WORDS = 50000\n",
    "# Max number of words in each complaint.\n",
    "MAX_SEQUENCE_LENGTH = 250\n",
    "# This is fixed.\n",
    "EMBEDDING_DIM = 100\n",
    "\n",
    "tokenizer = Tokenizer(num_words=MAX_NB_WORDS, filters='!\"#$%&()*+,-./:;<=>?@[\\]^_`{|}~', lower=True)\n",
    "tokenizer.fit_on_texts(data['Issue_processed'].values)\n",
    "word_index = tokenizer.word_index\n",
    "print('Found %s unique tokens.' % len(word_index))"
   ]
  },
  {
   "cell_type": "markdown",
   "id": "f1661764",
   "metadata": {},
   "source": [
    "Truncate and pad the input sequences so that they are all in the same length for modeling"
   ]
  },
  {
   "cell_type": "code",
   "execution_count": 10,
   "id": "5c3086a8",
   "metadata": {},
   "outputs": [
    {
     "name": "stdout",
     "output_type": "stream",
     "text": [
      "Shape of data tensor: (119606, 250)\n"
     ]
    }
   ],
   "source": [
    "X = tokenizer.texts_to_sequences(data['Issue_processed'].values)\n",
    "X = pad_sequences(X, maxlen=MAX_SEQUENCE_LENGTH)\n",
    "print('Shape of data tensor:', X.shape)"
   ]
  },
  {
   "cell_type": "markdown",
   "id": "ab1d46bf",
   "metadata": {},
   "source": [
    "Converting categorical labels to numbers"
   ]
  },
  {
   "cell_type": "code",
   "execution_count": 11,
   "id": "5edb513d",
   "metadata": {},
   "outputs": [
    {
     "name": "stdout",
     "output_type": "stream",
     "text": [
      "Shape of label tensor: (119606, 12)\n"
     ]
    }
   ],
   "source": [
    "Y = pd.get_dummies(data['Product'].values)\n",
    "print('Shape of label tensor:', Y.shape)"
   ]
  },
  {
   "cell_type": "markdown",
   "id": "b8730ee5",
   "metadata": {},
   "source": [
    "Splitting the dataset into train and test dataset"
   ]
  },
  {
   "cell_type": "code",
   "execution_count": 12,
   "id": "a156c691",
   "metadata": {},
   "outputs": [
    {
     "name": "stdout",
     "output_type": "stream",
     "text": [
      "(107645, 250) (107645, 12)\n",
      "(11961, 250) (11961, 12)\n"
     ]
    }
   ],
   "source": [
    "X_train, X_test, Y_train, Y_test = train_test_split(X,Y, test_size = 0.10, random_state = 42)\n",
    "print(X_train.shape,Y_train.shape)\n",
    "print(X_test.shape,Y_test.shape)"
   ]
  },
  {
   "cell_type": "markdown",
   "id": "417034f4",
   "metadata": {},
   "source": [
    "Making a sequential LSTM model \n",
    "The first layer is the embedded layer that uses 100 length vectors to represent each word.\n",
    "SpatialDropout1D performs variational dropout in NLP models.\n",
    "The next layer is the LSTM layer with 100 memory units.\n",
    "We are using softmax activation function and categorical_crossentropy for multiclass classification"
   ]
  },
  {
   "cell_type": "code",
   "execution_count": 13,
   "id": "26e05c70",
   "metadata": {},
   "outputs": [
    {
     "name": "stdout",
     "output_type": "stream",
     "text": [
      "Model: \"sequential\"\n",
      "_________________________________________________________________\n",
      " Layer (type)                Output Shape              Param #   \n",
      "=================================================================\n",
      " embedding (Embedding)       (None, 250, 100)          5000000   \n",
      "                                                                 \n",
      " spatial_dropout1d (SpatialD  (None, 250, 100)         0         \n",
      " ropout1D)                                                       \n",
      "                                                                 \n",
      " lstm (LSTM)                 (None, 100)               80400     \n",
      "                                                                 \n",
      " dense (Dense)               (None, 12)                1212      \n",
      "                                                                 \n",
      "=================================================================\n",
      "Total params: 5,081,612\n",
      "Trainable params: 5,081,612\n",
      "Non-trainable params: 0\n",
      "_________________________________________________________________\n",
      "None\n"
     ]
    }
   ],
   "source": [
    "model = Sequential()\n",
    "model.add(Embedding(MAX_NB_WORDS, EMBEDDING_DIM, input_length=X.shape[1])) #input_dim(MAX_NB_WORDS) : Size of the vocabulary, output_dim : Length of the vector for each word,input_length : Maximum length of a sequence\n",
    "model.add(SpatialDropout1D(0.2))\n",
    "model.add(LSTM(100, dropout=0.2, recurrent_dropout=0.2))\n",
    "model.add(Dense(12, activation='softmax'))\n",
    "model.compile(loss='categorical_crossentropy', optimizer='adam', metrics=['accuracy'])\n",
    "print(model.summary())"
   ]
  },
  {
   "cell_type": "code",
   "execution_count": 14,
   "id": "dde120d9",
   "metadata": {},
   "outputs": [
    {
     "name": "stdout",
     "output_type": "stream",
     "text": [
      "Epoch 1/10\n",
      "1514/1514 [==============================] - 1860s 1s/step - loss: 0.1413 - accuracy: 0.9564 - val_loss: 0.0370 - val_accuracy: 0.9837\n",
      "Epoch 2/10\n",
      "1514/1514 [==============================] - 1894s 1s/step - loss: 0.0357 - accuracy: 0.9832 - val_loss: 0.0332 - val_accuracy: 0.9870\n",
      "Epoch 3/10\n",
      "1514/1514 [==============================] - 1858s 1s/step - loss: 0.0330 - accuracy: 0.9837 - val_loss: 0.0299 - val_accuracy: 0.9870\n",
      "Epoch 4/10\n",
      "1514/1514 [==============================] - 1851s 1s/step - loss: 0.0321 - accuracy: 0.9843 - val_loss: 0.0290 - val_accuracy: 0.9870\n",
      "Epoch 5/10\n",
      "1514/1514 [==============================] - 1855s 1s/step - loss: 0.0318 - accuracy: 0.9846 - val_loss: 0.0295 - val_accuracy: 0.9870\n",
      "Epoch 6/10\n",
      "1514/1514 [==============================] - 7358s 5s/step - loss: 0.0314 - accuracy: 0.9847 - val_loss: 0.0308 - val_accuracy: 0.9790\n",
      "Epoch 7/10\n",
      "1514/1514 [==============================] - 2613s 2s/step - loss: 0.0312 - accuracy: 0.9847 - val_loss: 0.0292 - val_accuracy: 0.9870\n"
     ]
    }
   ],
   "source": [
    "epochs = 10\n",
    "batch_size = 64\n",
    "\n",
    "history = model.fit(X_train, Y_train, epochs=epochs, batch_size=batch_size,validation_split=0.1,callbacks=[EarlyStopping(monitor='val_loss', patience=3, min_delta=0.0001)])\n"
   ]
  },
  {
   "cell_type": "code",
   "execution_count": 15,
   "id": "1fded694",
   "metadata": {},
   "outputs": [
    {
     "name": "stdout",
     "output_type": "stream",
     "text": [
      "374/374 [==============================] - 18s 49ms/step - loss: 0.0331 - accuracy: 0.9845\n",
      "Test set\n",
      "  Loss: 0.033\n",
      "  Accuracy: 0.985\n"
     ]
    }
   ],
   "source": [
    "accr = model.evaluate(X_test,Y_test)\n",
    "print('Test set\\n  Loss: {:0.3f}\\n  Accuracy: {:0.3f}'.format(accr[0],accr[1]))"
   ]
  },
  {
   "cell_type": "code",
   "execution_count": 16,
   "id": "19a7d335",
   "metadata": {},
   "outputs": [
    {
     "data": {
      "image/png": "[encoded data removed]",
      "text/plain": [
       "<Figure size 432x288 with 1 Axes>"
      ]
     },
     "metadata": {
      "needs_background": "light"
     },
     "output_type": "display_data"
    }
   ],
   "source": [
    "plt.title('Loss Trend')\n",
    "plt.plot(history.history['loss'], label='train')\n",
    "plt.plot(history.history['val_loss'], label='test')\n",
    "plt.legend()\n",
    "plt.show();"
   ]
  },
  {
   "cell_type": "code",
   "execution_count": 17,
   "id": "9fcd7b86",
   "metadata": {},
   "outputs": [
    {
     "data": {
      "image/png": "[encoded data removed]",
      "text/plain": [
       "<Figure size 432x288 with 1 Axes>"
      ]
     },
     "metadata": {
      "needs_background": "light"
     },
     "output_type": "display_data"
    }
   ],
   "source": [
    "plt.title('Accuracy Trend')\n",
    "plt.plot(history.history['accuracy'], label='train')\n",
    "plt.plot(history.history['val_accuracy'], label='test')\n",
    "plt.legend()\n",
    "plt.show();"
   ]
  },
  {
   "cell_type": "code",
   "execution_count": 18,
   "id": "3849405d",
   "metadata": {},
   "outputs": [
    {
     "data": {
      "text/plain": [
       "array(['Bank account or service', 'Consumer Loan', 'Credit card',\n",
       "       'Credit reporting', 'Debt collection', 'Money transfers',\n",
       "       'Mortgage', 'Other financial service', 'Payday loan',\n",
       "       'Prepaid card', 'Student loan', 'Virtual currency'], dtype=object)"
      ]
     },
     "execution_count": 18,
     "metadata": {},
     "output_type": "execute_result"
    }
   ],
   "source": [
    "np.unique(data['Product'])"
   ]
  },
  {
   "cell_type": "code",
   "execution_count": 20,
   "id": "21f41bd4",
   "metadata": {},
   "outputs": [
    {
     "name": "stdout",
     "output_type": "stream",
     "text": [
      "Credit reporting\n"
     ]
    }
   ],
   "source": [
    "new_complaint = ['Incorrect information on credit report']\n",
    "seq = tokenizer.texts_to_sequences(new_complaint)\n",
    "padded = pad_sequences(seq, maxlen=MAX_SEQUENCE_LENGTH)\n",
    "pred = model.predict(padded)\n",
    "labels = ['Bank account or service', 'Consumer Loan', 'Credit card',\n",
    "       'Credit reporting', 'Debt collection', 'Money transfers',\n",
    "       'Mortgage', 'Other financial service', 'Payday loan',\n",
    "       'Prepaid card', 'Student loan', 'Virtual currency']\n",
    "print(labels[np.argmax(pred)])"
   ]
  },
  {
   "cell_type": "code",
   "execution_count": null,
   "id": "66363735",
   "metadata": {},
   "outputs": [],
   "source": []
  },
  {
   "cell_type": "code",
   "execution_count": null,
   "id": "3f94a8da",
   "metadata": {},
   "outputs": [],
   "source": []
  },
  {
   "cell_type": "code",
   "execution_count": null,
   "id": "9bebcea7",
   "metadata": {},
   "outputs": [],
   "source": []
  }
 ],
 "metadata": {
  "kernelspec": {
   "display_name": "Python 3",
   "language": "python",
   "name": "python3"
  },
  "language_info": {
   "codemirror_mode": {
    "name": "ipython",
    "version": 3
   },
   "file_extension": ".py",
   "mimetype": "text/x-python",
   "name": "python",
   "nbconvert_exporter": "python",
   "pygments_lexer": "ipython3",
   "version": "3.8.8"
  }
 },
 "nbformat": 4,
 "nbformat_minor": 5
}
